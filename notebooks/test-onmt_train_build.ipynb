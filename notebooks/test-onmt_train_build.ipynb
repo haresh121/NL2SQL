{
  "nbformat": 4,
  "nbformat_minor": 0,
  "metadata": {
    "colab": {
      "name": "onmt_train_build.ipynb",
      "provenance": [],
      "collapsed_sections": []
    },
    "kernelspec": {
      "name": "python3",
      "display_name": "Python 3"
    },
    "language_info": {
      "name": "python"
    },
    "accelerator": "GPU"
  },
  "cells": [
    {
      "cell_type": "code",
      "metadata": {
        "colab": {
          "base_uri": "https://localhost:8080/"
        },
        "id": "Vyq9pq2x5QK3",
        "outputId": "2532addd-e1ee-4467-be69-a4edb25e14be"
      },
      "source": [
        "! pip install openNMT-py -q"
      ],
      "execution_count": null,
      "outputs": [
        {
          "output_type": "stream",
          "text": [
            "\u001b[K     |████████████████████████████████| 215kB 14.4MB/s \n",
            "\u001b[K     |████████████████████████████████| 645kB 24.4MB/s \n",
            "\u001b[K     |████████████████████████████████| 748.8MB 22kB/s \n",
            "\u001b[K     |████████████████████████████████| 81kB 9.2MB/s \n",
            "\u001b[K     |████████████████████████████████| 14.3MB 19.3MB/s \n",
            "\u001b[K     |████████████████████████████████| 81kB 9.1MB/s \n",
            "\u001b[K     |████████████████████████████████| 61kB 7.8MB/s \n",
            "\u001b[K     |████████████████████████████████| 102kB 9.6MB/s \n",
            "\u001b[K     |████████████████████████████████| 1.2MB 34.3MB/s \n",
            "\u001b[31mERROR: torchvision 0.9.1+cu101 has requirement torch==1.8.1, but you'll have torch 1.6.0 which is incompatible.\u001b[0m\n",
            "\u001b[?25h"
          ],
          "name": "stdout"
        }
      ]
    },
    {
      "cell_type": "code",
      "metadata": {
        "colab": {
          "base_uri": "https://localhost:8080/"
        },
        "id": "dFsmbL9L3dcz",
        "outputId": "48e5924d-d69a-486d-d346-c6d4ef47192b"
      },
      "source": [
        "! onmt_train -config /content/drive/MyDrive/NLP/NL2SQL/config/transformer.yaml"
      ],
      "execution_count": null,
      "outputs": [
        {
          "output_type": "stream",
          "text": [
            "[2021-06-04 18:33:34,171 INFO] Loading ParallelCorpus(/content/drive/MyDrive/NLP/NL2SQL/train/nl-tr.txt, /content/drive/MyDrive/NLP/NL2SQL/train/sql-tr.txt, align=None)...\n",
            "Traceback (most recent call last):\n",
            "  File \"/usr/local/bin/onmt_train\", line 8, in <module>\n",
            "    sys.exit(main())\n",
            "  File \"/usr/local/lib/python3.7/dist-packages/onmt/bin/train.py\", line 172, in main\n",
            "    train(opt)\n",
            "  File \"/usr/local/lib/python3.7/dist-packages/onmt/bin/train.py\", line 157, in train\n",
            "    train_process(opt, device_id=0)\n",
            "  File \"/usr/local/lib/python3.7/dist-packages/onmt/train_single.py\", line 114, in main\n",
            "    valid_steps=opt.valid_steps)\n",
            "  File \"/usr/local/lib/python3.7/dist-packages/onmt/trainer.py\", line 244, in train\n",
            "    report_stats)\n",
            "  File \"/usr/local/lib/python3.7/dist-packages/onmt/trainer.py\", line 368, in _gradient_accumulation\n",
            "    with_align=self.with_align)\n",
            "  File \"/usr/local/lib/python3.7/dist-packages/torch/nn/modules/module.py\", line 722, in _call_impl\n",
            "    result = self.forward(*input, **kwargs)\n",
            "  File \"/usr/local/lib/python3.7/dist-packages/onmt/models/model.py\", line 69, in forward\n",
            "    with_align=with_align)\n",
            "  File \"/usr/local/lib/python3.7/dist-packages/torch/nn/modules/module.py\", line 722, in _call_impl\n",
            "    result = self.forward(*input, **kwargs)\n",
            "  File \"/usr/local/lib/python3.7/dist-packages/onmt/decoders/transformer.py\", line 473, in forward\n",
            "    with_align=with_align,\n",
            "  File \"/usr/local/lib/python3.7/dist-packages/torch/nn/modules/module.py\", line 722, in _call_impl\n",
            "    result = self.forward(*input, **kwargs)\n",
            "  File \"/usr/local/lib/python3.7/dist-packages/onmt/decoders/transformer.py\", line 98, in forward\n",
            "    output, attns = self._forward(*args, **kwargs)\n",
            "  File \"/usr/local/lib/python3.7/dist-packages/onmt/decoders/transformer.py\", line 275, in _forward\n",
            "    attn_type=\"context\",\n",
            "  File \"/usr/local/lib/python3.7/dist-packages/torch/nn/modules/module.py\", line 722, in _call_impl\n",
            "    result = self.forward(*input, **kwargs)\n",
            "  File \"/usr/local/lib/python3.7/dist-packages/onmt/modules/multi_headed_attn.py\", line 163, in forward\n",
            "    value = self.linear_values(value)\n",
            "  File \"/usr/local/lib/python3.7/dist-packages/torch/nn/modules/module.py\", line 722, in _call_impl\n",
            "    result = self.forward(*input, **kwargs)\n",
            "  File \"/usr/local/lib/python3.7/dist-packages/torch/nn/modules/linear.py\", line 91, in forward\n",
            "    return F.linear(input, self.weight, self.bias)\n",
            "  File \"/usr/local/lib/python3.7/dist-packages/torch/nn/functional.py\", line 1676, in linear\n",
            "    output = input.matmul(weight.t())\n",
            "KeyboardInterrupt\n"
          ],
          "name": "stdout"
        }
      ]
    },
    {
      "cell_type": "code",
      "metadata": {
        "id": "CoDCdpp06gra"
      },
      "source": [
        "! onmt_translate -model toy-ende/run/model_step_1000.pt -src toy-ende/src-test.txt -output toy-ende/pred_1000.txt -gpu 0 -verbose"
      ],
      "execution_count": null,
      "outputs": []
    },
    {
      "cell_type": "code",
      "metadata": {
        "id": "i2xbxAKy63rX",
        "colab": {
          "base_uri": "https://localhost:8080/"
        },
        "outputId": "ff960ee2-5ed2-45e3-8a79-ae15a74abc60"
      },
      "source": [
        "! onmt_translate -model /content/drive/MyDrive/NLP/NL2SQL/saved_model/model.nl_sql_step_3000.pt -src /content/drive/MyDrive/NLP/NL2SQL/validation/nl-val.txt -output /content/drive/MyDrive/NLP/NL2SQL/validation/sql-val-f.txt -gpu 0 -beam_size 10"
      ],
      "execution_count": null,
      "outputs": [
        {
          "output_type": "stream",
          "text": [
            "[2021-06-04 20:09:55,741 INFO] Translating shard 0.\n",
            "[2021-06-04 20:12:02,393 INFO] PRED AVG SCORE: -0.2861, PRED PPL: 1.3312\n",
            "[2021-06-04 20:12:02,417 INFO] Translating shard 1.\n",
            "[2021-06-04 20:13:15,668 INFO] PRED AVG SCORE: -0.2691, PRED PPL: 1.3088\n"
          ],
          "name": "stdout"
        }
      ]
    },
    {
      "cell_type": "code",
      "metadata": {
        "id": "THqr9_x3lgJn"
      },
      "source": [
        "import matplotlib.pyplot as plt\n",
        "import numpy as np"
      ],
      "execution_count": null,
      "outputs": []
    },
    {
      "cell_type": "code",
      "metadata": {
        "id": "PDzig9cDuTg4"
      },
      "source": [
        "ranges = np.linspace(200, 10000, num=50)\n",
        "acc = [53.46,\n",
        "77.19,\n",
        "85.13,\n",
        "89.83,\n",
        "92.38,\n",
        "93.82,\n",
        "94.68,\n",
        "95.14,\n",
        "95.49,\n",
        "95.75,\n",
        "95.91,\n",
        "96.11,\n",
        "96.35,\n",
        "96.50,\n",
        "96.60,\n",
        "96.77,\n",
        "96.94,\n",
        "97.04,\n",
        "97.22,\n",
        "97.41,\n",
        "97.53,\n",
        "97.68,\n",
        "97.81,\n",
        "97.90,\n",
        "97.96,\n",
        "98.08,\n",
        "98.15,\n",
        "98.25,\n",
        "98.35,\n",
        "98.39,\n",
        "98.46,\n",
        "98.52,\n",
        "98.60,\n",
        "98.68,\n",
        "98.74,\n",
        "98.77,\n",
        "98.81,\n",
        "98.91,\n",
        "98.95,\n",
        "98.99,\n",
        "99.06,\n",
        "99.09,\n",
        "99.10,\n",
        "99.13,\n",
        "99.15,\n",
        "99.20,\n",
        "99.22,\n",
        "99.26,\n",
        "99.29,\n",
        "99.32]\n",
        "ppl = [27.74,\n",
        "3.20,\n",
        "1.99,\n",
        "1.54,\n",
        "1.37,\n",
        "1.29,\n",
        "1.24,\n",
        "1.22,\n",
        "1.20,\n",
        "1.18,\n",
        "1.18,\n",
        "1.17,\n",
        "1.15,\n",
        "1.15,\n",
        "1.14,\n",
        "1.13,\n",
        "1.13,\n",
        "1.12,\n",
        "1.11,\n",
        "1.11,\n",
        "1.10,\n",
        "1.10,\n",
        "1.09,\n",
        "1.09,\n",
        "1.08,\n",
        "1.08,\n",
        "1.08,\n",
        "1.07,\n",
        "1.07,\n",
        "1.07,\n",
        "1.07,\n",
        "1.06,\n",
        "1.06,\n",
        "1.06,\n",
        "1.06,\n",
        "1.06,\n",
        "1.06,\n",
        "1.05,\n",
        "1.05,\n",
        "1.05,\n",
        "1.05,\n",
        "1.05,\n",
        "1.05,\n",
        "1.04,\n",
        "1.04,\n",
        "1.04,\n",
        "1.04,\n",
        "1.04,\n",
        "1.04,\n",
        "1.04]"
      ],
      "execution_count": null,
      "outputs": []
    },
    {
      "cell_type": "code",
      "metadata": {
        "colab": {
          "base_uri": "https://localhost:8080/",
          "height": 282
        },
        "id": "qL5KM9_qvxn9",
        "outputId": "9af2d4c1-9881-47ff-e9da-ee0e912ada6f"
      },
      "source": [
        "plt.plot(ranges, acc)"
      ],
      "execution_count": null,
      "outputs": [
        {
          "output_type": "execute_result",
          "data": {
            "text/plain": [
              "[<matplotlib.lines.Line2D at 0x7fd53ab76890>]"
            ]
          },
          "metadata": {
            "tags": []
          },
          "execution_count": 23
        },
        {
          "output_type": "display_data",
          "data": {
            "image/png": "[encoded data removed]",
            "text/plain": [
              "<Figure size 432x288 with 1 Axes>"
            ]
          },
          "metadata": {
            "tags": [],
            "needs_background": "light"
          }
        }
      ]
    },
    {
      "cell_type": "code",
      "metadata": {
        "colab": {
          "base_uri": "https://localhost:8080/",
          "height": 337
        },
        "id": "HuvsAhO1wEdt",
        "outputId": "2df788e9-e555-4370-8432-f4ff4a86ca71"
      },
      "source": [
        "_, ax = plt.subplots(figsize=(10, 5))\n",
        "ax.xticks(np.arange(min(x), max(x)+1, 1.0))\n",
        "ax.plot(ranges, acc, label=\"Accuracy\")\n",
        "ax.plot(ranges, ppl, label=\"Perplexity\")\n",
        "ax.legend()"
      ],
      "execution_count": null,
      "outputs": [
        {
          "output_type": "execute_result",
          "data": {
            "text/plain": [
              "<matplotlib.legend.Legend at 0x7fd53a92ecd0>"
            ]
          },
          "metadata": {
            "tags": []
          },
          "execution_count": 28
        },
        {
          "output_type": "display_data",
          "data": {
            "image/png": "[encoded data removed]",
            "text/plain": [
              "<Figure size 720x360 with 1 Axes>"
            ]
          },
          "metadata": {
            "tags": [],
            "needs_background": "light"
          }
        }
      ]
    },
    {
      "cell_type": "code",
      "metadata": {
        "id": "85s7sx0ewVxM"
      },
      "source": [
        ""
      ],
      "execution_count": null,
      "outputs": []
    }
  ]
}