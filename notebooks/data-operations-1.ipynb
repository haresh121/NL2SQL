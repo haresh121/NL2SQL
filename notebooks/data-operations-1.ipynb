{
 "cells": [
  {
   "cell_type": "code",
   "execution_count": 1,
   "id": "composite-loading",
   "metadata": {},
   "outputs": [],
   "source": [
    "import json\n",
    "import os\n",
    "import numpy as np\n",
    "import re\n",
    "import pickle\n",
    "# import polars as pl\n",
    "import pandas as pd\n",
    "from cleantext import clean as cl\n",
    "from collections import Counter\n",
    "from nltk import word_tokenize, pos_tag\n",
    "import sqlite3 as sqlite\n",
    "from pprint import pprint as PP\n",
    "from tqdm.notebook import tqdm"
   ]
  },
  {
   "cell_type": "code",
   "execution_count": 2,
   "id": "manufactured-parameter",
   "metadata": {},
   "outputs": [],
   "source": [
    "DATA = \"../data/\"\n",
    "SPIDER = os.path.join(DATA, 'spider')\n",
    "WIKI = os.path.join(DATA, 'wikisql')\n",
    "VALUE_NODE = \"{value}\"\n",
    "SW_PATH = os.path.join(*'../utils/stopwords-en.txt'.split('/'))\n",
    "with open(SW_PATH, 'rb') as f:\n",
    "    SW = f.readlines()"
   ]
  },
  {
   "cell_type": "code",
   "execution_count": 3,
   "id": "central-generator",
   "metadata": {},
   "outputs": [],
   "source": [
    "def load_json(file):\n",
    "    with open(file, 'r') as f:\n",
    "        return json.load(f)\n",
    "\n",
    "def read_pickle(file):\n",
    "    with open(file, 'rb') as f:\n",
    "        return pickle.load(f)\n",
    "\n",
    "def write_pickle(path, obj):\n",
    "    with open(path, 'wb+') as f:\n",
    "        pickle.dump(obj, f, protocol=pickle.HIGHEST_PROTOCOL)"
   ]
  },
  {
   "cell_type": "code",
   "execution_count": 4,
   "id": "dying-diagram",
   "metadata": {},
   "outputs": [],
   "source": [
    "spider = load_json(os.path.join(SPIDER, 'spider.json'))\n",
    "wiki = load_json(os.path.join(WIKI, 'wikisql.json'))"
   ]
  },
  {
   "cell_type": "code",
   "execution_count": 5,
   "id": "painful-airfare",
   "metadata": {},
   "outputs": [
    {
     "name": "stdout",
     "output_type": "stream",
     "text": [
      "SPIDER ds size : 5183\n",
      "WIKISQL ds size : 51159\n"
     ]
    }
   ],
   "source": [
    "print(f\"SPIDER ds size : {len(spider)}\\nWIKISQL ds size : {len(wiki)}\")"
   ]
  },
  {
   "cell_type": "code",
   "execution_count": 9,
   "id": "figured-attention",
   "metadata": {},
   "outputs": [],
   "source": [
    "def clean_text(t):\n",
    "    return cl(t, punct=False)\n",
    "\n",
    "def tokenize_nl(t):\n",
    "    _toks = [i for i in word_tokenize(clean_text(t)) if i not in SW]\n",
    "    return _toks\n",
    "\n",
    "def tokenize_query(t):\n",
    "    string = str(t)\n",
    "    quote_idxs = [idx for idx, char in enumerate(string) if char == \"\\\"\"]\n",
    "    assert len(quote_idxs) % 2 == 0, \"Unexpected quote\"\n",
    "    vals = {}\n",
    "    for i in range(len(quote_idxs)-1, -1, -2):\n",
    "        qidx1 = quote_idxs[i-1]\n",
    "        qidx2 = quote_idxs[i]\n",
    "        val = string[qidx1: qidx2+1]\n",
    "        key = \"__val_{}_{}__\".format(qidx1, qidx2)\n",
    "        string = string[:qidx1] + key + string[qidx2+1:]\n",
    "        vals[key] = val\n",
    "    \n",
    "    toks = [word.lower() for word in word_tokenize(string)]\n",
    "    for i in range(len(toks)):\n",
    "        if toks[i] in vals:\n",
    "            toks[i] = vals[toks[i]]\n",
    "    \n",
    "    eq_idxs = [idx for idx, tok in enumerate(toks) if tok == \"=\"]\n",
    "    eq_idxs.reverse()\n",
    "    prefix = ('!', '>', '<')\n",
    "    for eq_idx in eq_idxs:\n",
    "        pre_tok = toks[eq_idx-1]\n",
    "        if pre_tok in prefix:\n",
    "            toks = toks[:eq_idx-1] + [pre_tok + \"=\"] + toks[eq_idx+1:]\n",
    "    \n",
    "    return toks"
   ]
  },
  {
   "cell_type": "code",
   "execution_count": 6,
   "id": "amazing-certificate",
   "metadata": {},
   "outputs": [
    {
     "data": {
      "text/plain": [
       "['what', 'is', 'the', 'current', 'series', 'in', 'june', '2011']"
      ]
     },
     "execution_count": 6,
     "metadata": {},
     "output_type": "execute_result"
    }
   ],
   "source": [
    "tokenize_nl('What is the current series in June 2011 ?')"
   ]
  },
  {
   "cell_type": "code",
   "execution_count": 7,
   "id": "chemical-bristol",
   "metadata": {},
   "outputs": [
    {
     "data": {
      "text/plain": [
       "['select',\n",
       " 'tablealias0.current_series_field',\n",
       " 'tbl',\n",
       " 'where',\n",
       " 'tablealias0.notes_field',\n",
       " '=',\n",
       " '\"var0\"',\n",
       " ';']"
      ]
     },
     "execution_count": 7,
     "metadata": {},
     "output_type": "execute_result"
    }
   ],
   "source": [
    "tokenize_query('SELECT TABLEalias0.CURRENT_SERIES_FIELD tbl WHERE TABLEalias0.NOTES_FIELD = \"var0\" ;')"
   ]
  },
  {
   "cell_type": "code",
   "execution_count": 7,
   "id": "quarterly-oriental",
   "metadata": {},
   "outputs": [],
   "source": [
    "def get_all_parellel(dump, sep='<--->'):\n",
    "    cnt_que = Counter()\n",
    "    cnt_sql = Counter()\n",
    "    \n",
    "    nl_vocab = open(os.path.join('..', 'data', 'temp', 'vocab_nl.tsv'), 'w+', encoding='utf-8')\n",
    "    nl_sql = open(os.path.join('..', 'data', 'temp', 'nl_sql.csv'), 'w+', encoding='utf-8')\n",
    "    sql_vocab = open(os.path.join('..', 'data', 'temp', 'vocab_sql.tsv'), 'w+', encoding='utf-8')\n",
    "    \n",
    "    nl_sql.write(f\"question{sep}query\\n\")\n",
    "    \n",
    "    for i in tqdm(range(len(dump))):\n",
    "        k = dump[i]\n",
    "        q_toks = tokenize_nl(k[\"sentences\"][0][\"text\"])\n",
    "        temp_ques = \" \".join(q_toks)\n",
    "        for j in k[\"sql\"]:\n",
    "            try:\n",
    "                sql_toks = tokenize_query(cl(j))\n",
    "                temp_sql = \" \".join(sql_toks)\n",
    "                nl_sql.write(f\"{temp_ques}{sep}{temp_sql}\\n\")\n",
    "                cnt_sql.update(sql_toks)\n",
    "            except AssertionError:\n",
    "                continue\n",
    "        cnt_que.update(q_toks)\n",
    "        \n",
    "        \n",
    "    write_pickle(\"../data/temp/counter_nl.pickle\", cnt_que)\n",
    "    write_pickle(\"../data/temp/counter_sql.pickle\", cnt_sql)\n",
    "    \n",
    "    for n, i in enumerate(cnt_que):\n",
    "        nl_vocab.write(f\"{i}\\t{n}\\n\")\n",
    "    \n",
    "    for n, i in enumerate(cnt_sql):\n",
    "        sql_vocab.write(f\"{i}\\t{n}\\n\")\n",
    "    \n",
    "    nl_sql.close()\n",
    "    nl_vocab.close()\n",
    "    sql_vocab.close()"
   ]
  },
  {
   "cell_type": "code",
   "execution_count": 10,
   "id": "worth-situation",
   "metadata": {
    "scrolled": true
   },
   "outputs": [
    {
     "data": {
      "application/vnd.jupyter.widget-view+json": {
       "model_id": "f392d899641349968a851b638033458a",
       "version_major": 2,
       "version_minor": 0
      },
      "text/plain": [
       "  0%|          | 0/51159 [00:00<?, ?it/s]"
      ]
     },
     "metadata": {},
     "output_type": "display_data"
    }
   ],
   "source": [
    "get_all_parellel(wiki, sep=\"\\t\")"
   ]
  },
  {
   "cell_type": "code",
   "execution_count": 15,
   "id": "seven-kingston",
   "metadata": {},
   "outputs": [],
   "source": [
    "nl_p = read_pickle(\"../data/temp/counter_nl.pickle\")"
   ]
  },
  {
   "cell_type": "code",
   "execution_count": 16,
   "id": "worth-rubber",
   "metadata": {},
   "outputs": [
    {
     "data": {
      "text/plain": [
       "19506"
      ]
     },
     "execution_count": 16,
     "metadata": {},
     "output_type": "execute_result"
    }
   ],
   "source": [
    "len(nl_p)"
   ]
  },
  {
   "cell_type": "code",
   "execution_count": null,
   "id": "empirical-chocolate",
   "metadata": {},
   "outputs": [],
   "source": []
  }
 ],
 "metadata": {
  "kernelspec": {
   "display_name": "Python 3",
   "language": "python",
   "name": "python3"
  },
  "language_info": {
   "codemirror_mode": {
    "name": "ipython",
    "version": 3
   },
   "file_extension": ".py",
   "mimetype": "text/x-python",
   "name": "python",
   "nbconvert_exporter": "python",
   "pygments_lexer": "ipython3",
   "version": "3.8.5"
  },
  "widgets": {
   "application/vnd.jupyter.widget-state+json": {
    "state": {
     "07f677c4838b4b119158c10b66de599b": {
      "model_module": "@jupyter-widgets/controls",
      "model_module_version": "1.5.0",
      "model_name": "FloatProgressModel",
      "state": {
       "bar_style": "success",
       "layout": "IPY_MODEL_201eba352c574c578e2062673c6de5ee",
       "max": 51159,
       "style": "IPY_MODEL_6d7e70002aa141dd9a74471b2a66b1ae",
       "value": 51159
      }
     },
     "17e49227e06b496eaff4aec2fbffea71": {
      "model_module": "@jupyter-widgets/base",
      "model_module_version": "1.2.0",
      "model_name": "LayoutModel",
      "state": {}
     },
     "201eba352c574c578e2062673c6de5ee": {
      "model_module": "@jupyter-widgets/base",
      "model_module_version": "1.2.0",
      "model_name": "LayoutModel",
      "state": {}
     },
     "27a03e38c0f44daa8e301cb440526baf": {
      "model_module": "@jupyter-widgets/controls",
      "model_module_version": "1.5.0",
      "model_name": "HTMLModel",
      "state": {
       "layout": "IPY_MODEL_c281d7bd74b448889169cb3bf95cda80",
       "style": "IPY_MODEL_d1521a632aff4342b719d7c72bb56108",
       "value": "  0%"
      }
     },
     "281f711ef3a24d38b0c4fdf0673c3ead": {
      "model_module": "@jupyter-widgets/base",
      "model_module_version": "1.2.0",
      "model_name": "LayoutModel",
      "state": {}
     },
     "452e6e0b10da468da57f124272858f56": {
      "model_module": "@jupyter-widgets/controls",
      "model_module_version": "1.5.0",
      "model_name": "FloatProgressModel",
      "state": {
       "bar_style": "danger",
       "layout": "IPY_MODEL_17e49227e06b496eaff4aec2fbffea71",
       "max": 51159,
       "style": "IPY_MODEL_87edfef47e224d2187e897da54476139"
      }
     },
     "497d906eb1014cb4b6a85cd3473b3c1d": {
      "model_module": "@jupyter-widgets/controls",
      "model_module_version": "1.5.0",
      "model_name": "DescriptionStyleModel",
      "state": {
       "description_width": ""
      }
     },
     "4a5613481d1b49b6959dfda02bf07dbe": {
      "model_module": "@jupyter-widgets/controls",
      "model_module_version": "1.5.0",
      "model_name": "HBoxModel",
      "state": {
       "children": [
        "IPY_MODEL_27a03e38c0f44daa8e301cb440526baf",
        "IPY_MODEL_452e6e0b10da468da57f124272858f56",
        "IPY_MODEL_e257a1d0e3df421c9ee017787a1598a8"
       ],
       "layout": "IPY_MODEL_281f711ef3a24d38b0c4fdf0673c3ead"
      }
     },
     "554daabbcdcd46609397eaa9a8d3e30c": {
      "model_module": "@jupyter-widgets/base",
      "model_module_version": "1.2.0",
      "model_name": "LayoutModel",
      "state": {}
     },
     "5cd0b7a889424bb194476238ff4f10f5": {
      "model_module": "@jupyter-widgets/controls",
      "model_module_version": "1.5.0",
      "model_name": "DescriptionStyleModel",
      "state": {
       "description_width": ""
      }
     },
     "6d7e70002aa141dd9a74471b2a66b1ae": {
      "model_module": "@jupyter-widgets/controls",
      "model_module_version": "1.5.0",
      "model_name": "ProgressStyleModel",
      "state": {
       "description_width": ""
      }
     },
     "820bb3ea4a464bcab0d384e13710c5b7": {
      "model_module": "@jupyter-widgets/controls",
      "model_module_version": "1.5.0",
      "model_name": "HTMLModel",
      "state": {
       "layout": "IPY_MODEL_554daabbcdcd46609397eaa9a8d3e30c",
       "style": "IPY_MODEL_5cd0b7a889424bb194476238ff4f10f5",
       "value": "100%"
      }
     },
     "87edfef47e224d2187e897da54476139": {
      "model_module": "@jupyter-widgets/controls",
      "model_module_version": "1.5.0",
      "model_name": "ProgressStyleModel",
      "state": {
       "description_width": ""
      }
     },
     "8a64a66cf13c44eda615fe9044642cd8": {
      "model_module": "@jupyter-widgets/base",
      "model_module_version": "1.2.0",
      "model_name": "LayoutModel",
      "state": {}
     },
     "a4176ab0f1364ca8a3f11ce51c05923b": {
      "model_module": "@jupyter-widgets/base",
      "model_module_version": "1.2.0",
      "model_name": "LayoutModel",
      "state": {}
     },
     "b1d591eef8ff482b9e5a555d04560679": {
      "model_module": "@jupyter-widgets/base",
      "model_module_version": "1.2.0",
      "model_name": "LayoutModel",
      "state": {}
     },
     "c281d7bd74b448889169cb3bf95cda80": {
      "model_module": "@jupyter-widgets/base",
      "model_module_version": "1.2.0",
      "model_name": "LayoutModel",
      "state": {}
     },
     "d1521a632aff4342b719d7c72bb56108": {
      "model_module": "@jupyter-widgets/controls",
      "model_module_version": "1.5.0",
      "model_name": "DescriptionStyleModel",
      "state": {
       "description_width": ""
      }
     },
     "e24cdc7083cc430fb6e13c554a9d6634": {
      "model_module": "@jupyter-widgets/controls",
      "model_module_version": "1.5.0",
      "model_name": "DescriptionStyleModel",
      "state": {
       "description_width": ""
      }
     },
     "e257a1d0e3df421c9ee017787a1598a8": {
      "model_module": "@jupyter-widgets/controls",
      "model_module_version": "1.5.0",
      "model_name": "HTMLModel",
      "state": {
       "layout": "IPY_MODEL_b1d591eef8ff482b9e5a555d04560679",
       "style": "IPY_MODEL_497d906eb1014cb4b6a85cd3473b3c1d",
       "value": " 0/51159 [00:00&lt;?, ?it/s]"
      }
     },
     "f392d899641349968a851b638033458a": {
      "model_module": "@jupyter-widgets/controls",
      "model_module_version": "1.5.0",
      "model_name": "HBoxModel",
      "state": {
       "children": [
        "IPY_MODEL_820bb3ea4a464bcab0d384e13710c5b7",
        "IPY_MODEL_07f677c4838b4b119158c10b66de599b",
        "IPY_MODEL_fc2b11cfa5384250be7cc29a57c19075"
       ],
       "layout": "IPY_MODEL_8a64a66cf13c44eda615fe9044642cd8"
      }
     },
     "fc2b11cfa5384250be7cc29a57c19075": {
      "model_module": "@jupyter-widgets/controls",
      "model_module_version": "1.5.0",
      "model_name": "HTMLModel",
      "state": {
       "layout": "IPY_MODEL_a4176ab0f1364ca8a3f11ce51c05923b",
       "style": "IPY_MODEL_e24cdc7083cc430fb6e13c554a9d6634",
       "value": " 51159/51159 [02:22&lt;00:00, 356.41it/s]"
      }
     }
    },
    "version_major": 2,
    "version_minor": 0
   }
  }
 },
 "nbformat": 4,
 "nbformat_minor": 5
}
