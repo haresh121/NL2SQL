{
 "cells": [
  {
   "cell_type": "code",
   "execution_count": 1,
   "metadata": {},
   "outputs": [],
   "source": [
    "import pandas as pd\n",
    "import re\n",
    "import nltk\n",
    "import json\n",
    "from collections import Counter"
   ]
  },
  {
   "cell_type": "code",
   "execution_count": 36,
   "metadata": {},
   "outputs": [],
   "source": [
    "def compile_sql(sql):\n",
    "    sql_stmts = []\n",
    "    for i in sql:\n",
    "        sql_stmts.append(re.sub(\"[^A-Za-z0-9\\ =\\[\\]'#)\\\"\\.+:-_{}*;/\\\\?=&]\", \"\", i))\n",
    "    return sql_stmts\n",
    "\n",
    "def get_punkt(sql):\n",
    "    temp = []\n",
    "    for i in sql:\n",
    "        temp.extend(re.findall(\"[^A-Za-z0-9\\ =\\[\\]'#)\\\"\\.+:-_{}*;/\\\\?=&]\", i))\n",
    "    temp = set(temp)\n",
    "    return temp\n",
    "    "
   ]
  },
  {
   "cell_type": "code",
   "execution_count": 16,
   "metadata": {},
   "outputs": [],
   "source": [
    "sql_queries = pd.read_csv('../data/temp/nl_sql.csv', sep='\\t')"
   ]
  },
  {
   "cell_type": "code",
   "execution_count": 23,
   "metadata": {},
   "outputs": [],
   "source": [
    "punc = list(get_punkt(sql_queries[\"query\"]))"
   ]
  },
  {
   "cell_type": "code",
   "execution_count": 34,
   "metadata": {},
   "outputs": [],
   "source": [
    "sql_stmts = compile_sql(sql_queries[\"query\"])"
   ]
  },
  {
   "cell_type": "code",
   "execution_count": 38,
   "metadata": {},
   "outputs": [],
   "source": [
    "import random"
   ]
  },
  {
   "cell_type": "code",
   "execution_count": 64,
   "metadata": {},
   "outputs": [
    {
     "data": {
      "text/plain": [
       "['select',\n",
       " 'tablealias0.format_field',\n",
       " 'from',\n",
       " 'table',\n",
       " 'as',\n",
       " 'tablealias0',\n",
       " 'where',\n",
       " 'tablealias0.year_field',\n",
       " '<',\n",
       " 'var0',\n",
       " ';']"
      ]
     },
     "execution_count": 64,
     "metadata": {},
     "output_type": "execute_result"
    }
   ],
   "source": [
    "nltk.word_tokenize(\"select tablealias0.format_field from table as tablealias0 where tablealias0.year_field < var0 ;\")"
   ]
  },
  {
   "cell_type": "code",
   "execution_count": 65,
   "metadata": {},
   "outputs": [],
   "source": [
    "cnt = Counter()\n",
    "for i in sql_stmts:\n",
    "    cnt.update(nltk.word_tokenize(i))"
   ]
  },
  {
   "cell_type": "code",
   "execution_count": 68,
   "metadata": {},
   "outputs": [
    {
     "data": {
      "text/plain": [
       "[('=', 61007),\n",
       " ('tablealias0', 51643),\n",
       " (';', 51176),\n",
       " ('from', 51170),\n",
       " ('select', 51159),\n",
       " ('table', 51159),\n",
       " ('as', 50981),\n",
       " ('where', 50762),\n",
       " ('var0', 50762),\n",
       " ('and', 27589)]"
      ]
     },
     "execution_count": 68,
     "metadata": {},
     "output_type": "execute_result"
    }
   ],
   "source": [
    "cnt.most_common(10)"
   ]
  },
  {
   "cell_type": "code",
   "execution_count": 70,
   "metadata": {},
   "outputs": [],
   "source": [
    "with open('../data/temp/sql.txt', \"w+\", encoding=\"utf-8\") as f:\n",
    "    for i in sql_stmts:\n",
    "        f.write(f\"{i}\\n\")"
   ]
  },
  {
   "cell_type": "code",
   "execution_count": 74,
   "metadata": {},
   "outputs": [],
   "source": [
    "with open('../data/temp/sql.vocab', \"w+\", encoding=\"utf-8\") as f:\n",
    "    for i in cnt:\n",
    "        f.write(f\"{i}\\t{cnt[i]}\\n\")"
   ]
  },
  {
   "cell_type": "code",
   "execution_count": 75,
   "metadata": {},
   "outputs": [],
   "source": [
    "import _pickle as cPickle"
   ]
  },
  {
   "cell_type": "code",
   "execution_count": 77,
   "metadata": {},
   "outputs": [],
   "source": [
    "def read_pickle(file):\n",
    "    with open(file, 'rb') as f:\n",
    "        return cPickle.load(f)"
   ]
  },
  {
   "cell_type": "code",
   "execution_count": 78,
   "metadata": {},
   "outputs": [],
   "source": [
    "nlcnt = read_pickle(\"../data/temp/counter_nl.pickle\")"
   ]
  },
  {
   "cell_type": "code",
   "execution_count": 79,
   "metadata": {},
   "outputs": [],
   "source": [
    "with open('../data/temp/nl.vocab', \"w+\", encoding=\"utf-8\") as f:\n",
    "    for i in nlcnt:\n",
    "        f.write(f\"{i}\\t{nlcnt[i]}\\n\")"
   ]
  },
  {
   "cell_type": "code",
   "execution_count": 83,
   "metadata": {},
   "outputs": [],
   "source": [
    "fnltr, fnlte = open('../data/temp/nl-tr.txt', \"w+\", encoding=\"utf-8\"), open('../data/temp/nl-val.txt', \"w+\", encoding=\"utf-8\")\n",
    "fsqltr, fsqlte = open('../data/temp/sql-tr.txt', \"w+\", encoding=\"utf-8\"), open('../data/temp/sql-val.txt', \"w+\", encoding=\"utf-8\")"
   ]
  },
  {
   "cell_type": "code",
   "execution_count": 86,
   "metadata": {},
   "outputs": [],
   "source": [
    "for n, i in enumerate(zip(sql_queries[\"question\"], sql_queries[\"query\"])):\n",
    "    if n < 35900:\n",
    "        fnltr.write(f\"{i[0]}\\n\")\n",
    "        fsqltr.write(f\"{i[1]}\\n\")\n",
    "    else:\n",
    "        fnlte.write(f\"{i[0]}\\n\")\n",
    "        fsqlte.write(f\"{i[1]}\\n\")"
   ]
  },
  {
   "cell_type": "code",
   "execution_count": 87,
   "metadata": {},
   "outputs": [],
   "source": [
    "fsqltr.close()\n",
    "fsqlte.close()\n",
    "fnltr.close()\n",
    "fnlte.close()"
   ]
  }
 ],
 "metadata": {
  "kernelspec": {
   "display_name": "Python 3",
   "language": "python",
   "name": "python3"
  },
  "language_info": {
   "codemirror_mode": {
    "name": "ipython",
    "version": 3
   },
   "file_extension": ".py",
   "mimetype": "text/x-python",
   "name": "python",
   "nbconvert_exporter": "python",
   "pygments_lexer": "ipython3",
   "version": "3.8.5"
  }
 },
 "nbformat": 4,
 "nbformat_minor": 4
}
