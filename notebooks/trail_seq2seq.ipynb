{
 "cells": [
  {
   "cell_type": "code",
   "execution_count": 1,
   "id": "military-madagascar",
   "metadata": {},
   "outputs": [],
   "source": [
    "import sys\n",
    "sys.path.append('..')\n",
    "sys.path.append('../..')\n",
    "from models import datautils\n",
    "from models import seq2seq as E2AD\n",
    "import pytorch_lightning as pl\n",
    "import torch\n",
    "from torch import nn\n",
    "from torch import optim\n",
    "import random\n",
    "from cleantext import clean as CL\n",
    "import _pickle as cPickle\n",
    "\n",
    "N2S = \"../data/temp/nl_sql.csv\""
   ]
  },
  {
   "cell_type": "code",
   "execution_count": 2,
   "id": "continuous-short",
   "metadata": {},
   "outputs": [
    {
     "name": "stdout",
     "output_type": "stream",
     "text": [
      "('what is the lowest crowd size at var0', 'select min tablealias0.crowd_field from table as tablealias0 where tablealias0.venue_field = var0 ;')\n"
     ]
    }
   ],
   "source": [
    "def saveData(file, data):\n",
    "    with open(file, 'wb+') as f:\n",
    "        cPickle.dump(data, f)\n",
    "\n",
    "def retrieveData(file):\n",
    "    with open(file, 'rb') as f:\n",
    "        return cPickle.load(f)\n",
    "\n",
    "nl, sql, pairs = retrieveData('../data/temp/data.pickle')\n",
    "\n",
    "print(random.choice(pairs))\n",
    "\n",
    "S2S = E2AD.Seq2Seq(len(nl), 256, len(sql))"
   ]
  },
  {
   "cell_type": "code",
   "execution_count": 3,
   "id": "collective-continuity",
   "metadata": {},
   "outputs": [
    {
     "name": "stdout",
     "output_type": "stream",
     "text": [
      "tensor([   1,    6,   13,    7,  320,   61,   49, 3901,  459,   10,   50,   60,\n",
      "          99,   37,  656,    2])\n",
      "tensor([   1,    4,   40, 1557,    6,    7,    8,    9,   10,  239,   12,   26,\n",
      "          14,    2])\n"
     ]
    }
   ],
   "source": [
    "in_, out_ = datautils.tensorFromPairs(nl, sql, random.choice(pairs))\n",
    "in_ = in_.detach().cpu()\n",
    "out_ = out_.detach().cpu()\n",
    "print(f\"{in_}\\n{out_}\")"
   ]
  },
  {
   "cell_type": "code",
   "execution_count": 4,
   "id": "interested-olympus",
   "metadata": {},
   "outputs": [],
   "source": [
    "out = S2S(in_, out_)"
   ]
  },
  {
   "cell_type": "code",
   "execution_count": 7,
   "id": "beneficial-penalty",
   "metadata": {},
   "outputs": [],
   "source": [
    "sq_out = \" \".join([sql.idx2word[int(i)] for i in out])"
   ]
  },
  {
   "cell_type": "code",
   "execution_count": 8,
   "id": "understood-negotiation",
   "metadata": {},
   "outputs": [
    {
     "data": {
      "text/plain": [
       "'tablealias0.mittelfranken_sud_field leg tablealias0.nba_years_ as tablealias0.mdns_field tablealias0.mdns_field tablealias0.mdns_field tablealias0.mdns_field tablealias0.mdns_field tablealias0.mdns_field tablealias0.mdns_field tablealias0.mdns_field tablealias0.mdns_field tablealias0.mdns_field'"
      ]
     },
     "execution_count": 8,
     "metadata": {},
     "output_type": "execute_result"
    }
   ],
   "source": [
    "sq_out"
   ]
  }
 ],
 "metadata": {
  "kernelspec": {
   "display_name": "Python 3",
   "language": "python",
   "name": "python3"
  },
  "language_info": {
   "codemirror_mode": {
    "name": "ipython",
    "version": 3
   },
   "file_extension": ".py",
   "mimetype": "text/x-python",
   "name": "python",
   "nbconvert_exporter": "python",
   "pygments_lexer": "ipython3",
   "version": "3.8.5"
  },
  "widgets": {
   "application/vnd.jupyter.widget-state+json": {
    "state": {},
    "version_major": 2,
    "version_minor": 0
   }
  }
 },
 "nbformat": 4,
 "nbformat_minor": 5
}
